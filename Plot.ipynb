{
 "cells": [
  {
   "cell_type": "code",
   "execution_count": 1,
   "metadata": {},
   "outputs": [],
   "source": [
    "import matplotlib.pyplot as plt\n",
    "import numpy as np\n"
   ]
  },
  {
   "cell_type": "code",
   "execution_count": 2,
   "metadata": {},
   "outputs": [],
   "source": [
    "file1 = open(\"Counter/output.txt\", 'r')\n",
    "file2 = open(\"Stack/output.txt\", 'r')\n",
    "file3 = open(\"Aging_register/output.txt\", 'r')\n",
    "file4 = open(\"Clock/output.txt\", 'r')"
   ]
  },
  {
   "cell_type": "code",
   "execution_count": 3,
   "metadata": {},
   "outputs": [
    {
     "name": "stdout",
     "output_type": "stream",
     "text": [
      "[    3    30  1000   906 48518]\n",
      "[    5    30  1000   833 16240]\n",
      "[   10    30  1000   678 11222]\n",
      "[  15   30 1000  481 7980]\n",
      "[  20   30 1000  319 5326]\n",
      "[  25   30 1000  169 2863]\n"
     ]
    }
   ],
   "source": [
    "performance_Counter = []\n",
    "faults_Counter = []\n",
    "num_frames = []\n",
    "\n",
    "for line in file1:\n",
    "    array = np.fromstring(line, sep = ' ', dtype=int)\n",
    "    print(array)\n",
    "    num_frames.append(array[0])\n",
    "    performance_Counter.append(array[4])\n",
    "    faults_Counter.append(array[3])"
   ]
  },
  {
   "cell_type": "code",
   "execution_count": 4,
   "metadata": {},
   "outputs": [
    {
     "name": "stdout",
     "output_type": "stream",
     "text": [
      "[   3   30 1000  906 3935]\n",
      "[   5   30 1000  833 2193]\n",
      "[  10   30 1000  678 1526]\n",
      "[  15   30 1000  481 1708]\n",
      "[  20   30 1000  319 2201]\n",
      "[  25   30 1000  169 2246]\n"
     ]
    }
   ],
   "source": [
    "performance_Stack = []\n",
    "faults_Stack = []\n",
    "# num_frames = []\n",
    "\n",
    "for line in file2:\n",
    "    array = np.fromstring(line, sep = ' ', dtype=int)\n",
    "    print(array)\n",
    "#     num_frames.append(array[0])\n",
    "    performance_Stack.append(array[4])\n",
    "    faults_Stack.append(array[3])"
   ]
  },
  {
   "cell_type": "code",
   "execution_count": 5,
   "metadata": {},
   "outputs": [
    {
     "name": "stdout",
     "output_type": "stream",
     "text": [
      "[    3    30  1000   906 45513]\n",
      "[    5    30  1000   833 15763]\n",
      "[   10    30  1000   680 11636]\n",
      "[  15   30 1000  479 8698]\n",
      "[  20   30 1000  362 7287]\n",
      "[  25   30 1000  252 5980]\n"
     ]
    }
   ],
   "source": [
    "performance_AgingRegister = []\n",
    "faults_AgingRegister = []\n",
    "# num_frames = []\n",
    "\n",
    "for line in file3:\n",
    "    array = np.fromstring(line, sep = ' ', dtype=int)\n",
    "    print(array)\n",
    "#     num_frames.append(array[0])\n",
    "    performance_AgingRegister.append(array[4])\n",
    "    faults_AgingRegister.append(array[3])"
   ]
  },
  {
   "cell_type": "code",
   "execution_count": 6,
   "metadata": {},
   "outputs": [
    {
     "name": "stdout",
     "output_type": "stream",
     "text": [
      "[    3    30  1000   905 20908]\n",
      "[    5    30  1000   837 14170]\n",
      "[   10    30  1000   653 10848]\n",
      "[  15   30 1000  499 8269]\n",
      "[  20   30 1000  324 5391]\n",
      "[  25   30 1000  173 2924]\n"
     ]
    }
   ],
   "source": [
    "performance_Approx_Clock = []\n",
    "faults_Approx_Clock = []\n",
    "# num_frames = []\n",
    "\n",
    "for line in file4:\n",
    "    array = np.fromstring(line, sep = ' ', dtype=int)\n",
    "#     num_frames.append(array[0])\n",
    "    print(array)\n",
    "    performance_Approx_Clock.append(array[4])\n",
    "    faults_Approx_Clock.append(array[3])\n",
    "    "
   ]
  },
  {
   "cell_type": "code",
   "execution_count": 7,
   "metadata": {},
   "outputs": [],
   "source": [
    "algos = (\"LRU_Counter\", \"LRU_Stack\", \"LRU_AgingRegister\", \"Approx_LRU_Clock\")"
   ]
  },
  {
   "cell_type": "code",
   "execution_count": 8,
   "metadata": {},
   "outputs": [],
   "source": [
    "num_examples = len(num_frames)\n",
    "performance_Counter = tuple(performance_Counter)\n",
    "performance_Stack = tuple(performance_Stack)\n",
    "performance_AgingRegister = tuple(performance_AgingRegister)\n",
    "performance_Approx_Clock = tuple(performance_Approx_Clock)"
   ]
  },
  {
   "cell_type": "code",
   "execution_count": 9,
   "metadata": {},
   "outputs": [
    {
     "data": {
      "image/png": "[encoded data removed]",
      "text/plain": [
       "<Figure size 864x360 with 1 Axes>"
      ]
     },
     "metadata": {
      "needs_background": "light"
     },
     "output_type": "display_data"
    }
   ],
   "source": [
    "indices = np.arange(num_examples)\n",
    "width = 0.1\n",
    "\n",
    "plt.figure(figsize=(12, 5))\n",
    "\n",
    "LRU_Counter = plt.bar(indices, performance_Counter, color='#0000FF' ,width=0.1, label='LRU_Counter')\n",
    "\n",
    "LRU_Stack = plt.bar(indices+width, performance_Stack, color='#00FFFF',width=0.1, label='LRU_Stack')\n",
    "\n",
    "LRU_AgingRegister = plt.bar(indices+2*width, performance_AgingRegister,width=0.1, color='#00FF00', label='LRU_AgingRegister')\n",
    "\n",
    "Approx_LRU_clock = plt.bar(indices+3*width, performance_Approx_Clock, width=.1, color='#009C9C', label='Approx_LRU_Clock')\n",
    "\n",
    "plt.xlabel('Num_Frames')\n",
    "plt.ylabel('Time (in microseconds)')\n",
    "plt.title('Time by frames for various algos')\n",
    "plt.xticks(indices + 2*width, tuple(num_frames))\n",
    "plt.legend()\n",
    "\n",
    "plt.tight_layout()\n",
    "plt.savefig(\"Graphs/Performance.png\")\n",
    "plt.show()\n"
   ]
  },
  {
   "cell_type": "code",
   "execution_count": 10,
   "metadata": {},
   "outputs": [],
   "source": [
    "#num_examples = len(num_frames)\n",
    "faults_Counter = tuple(faults_Counter)\n",
    "faults_Stack = tuple(faults_Stack)\n",
    "faults_AgingRegister = tuple(faults_AgingRegister)\n",
    "faults_Approx_Clock = tuple(faults_Approx_Clock)"
   ]
  },
  {
   "cell_type": "code",
   "execution_count": 11,
   "metadata": {},
   "outputs": [
    {
     "data": {
      "image/png": "[encoded data removed]",
      "text/plain": [
       "<Figure size 864x360 with 1 Axes>"
      ]
     },
     "metadata": {
      "needs_background": "light"
     },
     "output_type": "display_data"
    }
   ],
   "source": [
    "# indices = np.arange(num_examples)\n",
    "width = 0.1\n",
    "\n",
    "plt.figure(figsize=(12, 5))\n",
    "\n",
    "LRU_Counter = plt.bar(indices, faults_Counter, color='#0000FF' ,width=0.1, label='LRU_Counter')\n",
    "\n",
    "LRU_Stack = plt.bar(indices+width, faults_Stack, color='#00FFFF',width=0.1, label='LRU_Stack')\n",
    "\n",
    "LRU_AgingRegister = plt.bar(indices+2*width, faults_AgingRegister,width=0.1, color='#00FF00', label='LRU_AgingRegister')\n",
    "\n",
    "Approx_LRU_clock = plt.bar(indices+3*width, faults_Approx_Clock, width=.1, color='#009C9C', label='Approx_LRU_Clock')\n",
    "\n",
    "plt.xlabel('Num_Frames')\n",
    "plt.ylabel('Page Faults')\n",
    "plt.title('Faults by frames for various algos')\n",
    "plt.xticks(indices + 2*width, tuple(num_frames))\n",
    "plt.legend()\n",
    "\n",
    "plt.tight_layout()\n",
    "plt.savefig(\"Graphs/FaultsByFrames.png\")\n",
    "plt.show()\n"
   ]
  },
  {
   "cell_type": "code",
   "execution_count": null,
   "metadata": {},
   "outputs": [],
   "source": []
  }
 ],
 "metadata": {
  "kernelspec": {
   "display_name": "Python 3",
   "language": "python",
   "name": "python3"
  },
  "language_info": {
   "codemirror_mode": {
    "name": "ipython",
    "version": 3
   },
   "file_extension": ".py",
   "mimetype": "text/x-python",
   "name": "python",
   "nbconvert_exporter": "python",
   "pygments_lexer": "ipython3",
   "version": "3.6.7"
  }
 },
 "nbformat": 4,
 "nbformat_minor": 2
}
